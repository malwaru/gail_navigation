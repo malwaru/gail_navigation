{
 "cells": [
  {
   "cell_type": "code",
   "execution_count": 9,
   "id": "0f2a8296-db9e-41d4-b30d-e8deae92340b",
   "metadata": {},
   "outputs": [],
   "source": [
    "\"\"\"This is a simple example demonstrating how to clone the behavior of an expert.\n",
    "\n",
    "Refer to the jupyter notebooks for more detailed examples of how to use the algorithms.\n",
    "\"\"\"\n",
    "import numpy as np\n",
    "from stable_baselines3 import PPO\n",
    "from stable_baselines3.common.evaluation import evaluate_policy\n",
    "from stable_baselines3.ppo import MlpPolicy\n",
    "\n",
    "from imitation.algorithms import bc\n",
    "from imitation.data import rollout\n",
    "from imitation.data.wrappers import RolloutInfoWrapper\n",
    "from imitation.policies.serialize import load_policy\n",
    "from imitation.util.util import make_vec_env"
   ]
  },
  {
   "cell_type": "code",
   "execution_count": 10,
   "id": "f4af5198-06eb-4aeb-8692-4119ee1826e6",
   "metadata": {},
   "outputs": [],
   "source": [
    "rng = np.random.default_rng(0)\n",
    "env = make_vec_env(\n",
    "    \"seals:seals/CartPole-v0\",\n",
    "    rng=rng,\n",
    "    post_wrappers=[lambda env, _: RolloutInfoWrapper(env)],  # for computing rollouts\n",
    ")"
   ]
  },
  {
   "cell_type": "code",
   "execution_count": 14,
   "id": "9abd2f11-401c-4d56-9c4f-3ad22d21ec6d",
   "metadata": {},
   "outputs": [],
   "source": [
    "def train_expert():\n",
    "    # note: use `download_expert` instead to download a pretrained, competent expert\n",
    "    print(\"Training a expert.\")\n",
    "    expert = PPO(\n",
    "        policy=MlpPolicy,\n",
    "        env=env,\n",
    "        seed=0,\n",
    "        batch_size=64,\n",
    "        ent_coef=0.0,\n",
    "        learning_rate=0.0003,\n",
    "        n_epochs=10,\n",
    "        n_steps=64,\n",
    "    )\n",
    "    expert.learn(1_000)  # Note: change this to 100_000 to train a decent expert.\n",
    "    return expert\n",
    "\n",
    "\n",
    "def download_expert():\n",
    "    print(\"Downloading a pretrained expert.\")\n",
    "    expert = load_policy(\n",
    "        \"ppo-huggingface\",\n",
    "        organization=\"HumanCompatibleAI\",\n",
    "        env_name=\"seals-CartPole-v0\",\n",
    "        venv=env,\n",
    "    )\n",
    "    return expert\n",
    "\n",
    "\n",
    "def sample_expert_transitions():\n",
    "    # expert = train_expert()  # uncomment to train your own expert\n",
    "    expert = download_expert()\n",
    "\n",
    "    print(\"Sampling expert transitions.\")\n",
    "    rollouts = rollout.rollout(\n",
    "        expert,\n",
    "        env,\n",
    "        rollout.make_sample_until(min_timesteps=None, min_episodes=50),\n",
    "        rng=rng,\n",
    "    )\n",
    "    return rollout.flatten_trajectories(rollouts)"
   ]
  },
  {
   "cell_type": "code",
   "execution_count": 15,
   "id": "a017d2fa-4633-42cc-87c5-6f36e836ca43",
   "metadata": {},
   "outputs": [
    {
     "name": "stdout",
     "output_type": "stream",
     "text": [
      "Downloading a pretrained expert.\n",
      "Sampling expert transitions.\n"
     ]
    }
   ],
   "source": [
    "transitions = sample_expert_transitions()"
   ]
  },
  {
   "cell_type": "code",
   "execution_count": 16,
   "id": "70dbada9-d9e0-4b6a-88ca-33388fff1e62",
   "metadata": {},
   "outputs": [
    {
     "name": "stdout",
     "output_type": "stream",
     "text": [
      "{'obs': array([-0.04512423,  0.04991761,  0.01523691, -0.02654898], dtype=float32), 'acts': 1, 'infos': {}, 'next_obs': array([-0.04412588,  0.24481778,  0.01470593, -0.3143858 ], dtype=float32), 'dones': False}\n"
     ]
    }
   ],
   "source": [
    "print(transitions[0]) \n"
   ]
  },
  {
   "cell_type": "code",
   "execution_count": 20,
   "id": "676de101",
   "metadata": {},
   "outputs": [
    {
     "ename": "ValueError",
     "evalue": "obs and acts must have same number of timesteps: 10 != 9",
     "output_type": "error",
     "traceback": [
      "\u001b[0;31m---------------------------------------------------------------------------\u001b[0m",
      "\u001b[0;31mValueError\u001b[0m                                Traceback (most recent call last)",
      "Cell \u001b[0;32mIn[20], line 10\u001b[0m\n\u001b[1;32m      8\u001b[0m infos\u001b[38;5;241m=\u001b[39m [{} \u001b[38;5;28;01mfor\u001b[39;00m i \u001b[38;5;129;01min\u001b[39;00m \u001b[38;5;28mrange\u001b[39m(no_of_transitions\u001b[38;5;241m-\u001b[39m\u001b[38;5;241m1\u001b[39m)]\n\u001b[1;32m      9\u001b[0m next_obs\u001b[38;5;241m=\u001b[39mcopy\u001b[38;5;241m.\u001b[39mdeepcopy(obs)[\u001b[38;5;241m1\u001b[39m:]\n\u001b[0;32m---> 10\u001b[0m custom_dataset \u001b[38;5;241m=\u001b[39m \u001b[43mTransitions\u001b[49m\u001b[43m(\u001b[49m\u001b[43mobs\u001b[49m\u001b[38;5;241;43m=\u001b[39;49m\u001b[43mobs\u001b[49m\u001b[43m,\u001b[49m\u001b[43m \u001b[49m\u001b[43macts\u001b[49m\u001b[38;5;241;43m=\u001b[39;49m\u001b[43macts\u001b[49m\u001b[43m,\u001b[49m\u001b[43minfos\u001b[49m\u001b[38;5;241;43m=\u001b[39;49m\u001b[43minfos\u001b[49m\u001b[43m,\u001b[49m\u001b[43mnext_obs\u001b[49m\u001b[38;5;241;43m=\u001b[39;49m\u001b[43mnext_obs\u001b[49m\u001b[43m,\u001b[49m\u001b[43mdones\u001b[49m\u001b[38;5;241;43m=\u001b[39;49m\u001b[43mdones\u001b[49m\u001b[43m)\u001b[49m\n\u001b[1;32m     13\u001b[0m \u001b[38;5;66;03m# rollout2= rollout.flatten_trajectories(custom_dataset)\u001b[39;00m\n\u001b[1;32m     14\u001b[0m \u001b[38;5;28mprint\u001b[39m(custom_dataset\u001b[38;5;241m.\u001b[39mobs\u001b[38;5;241m.\u001b[39mshape)\n",
      "File \u001b[0;32m<string>:8\u001b[0m, in \u001b[0;36m__init__\u001b[0;34m(self, obs, acts, infos, next_obs, dones)\u001b[0m\n",
      "File \u001b[0;32m~/venvs/thesis_venv/lib/python3.8/site-packages/imitation/data/types.py:603\u001b[0m, in \u001b[0;36mTransitions.__post_init__\u001b[0;34m(self)\u001b[0m\n\u001b[1;32m    601\u001b[0m \u001b[38;5;28;01mdef\u001b[39;00m \u001b[38;5;21m__post_init__\u001b[39m(\u001b[38;5;28mself\u001b[39m):\n\u001b[1;32m    602\u001b[0m \u001b[38;5;250m    \u001b[39m\u001b[38;5;124;03m\"\"\"Performs input validation: check shapes & dtypes match docstring.\"\"\"\u001b[39;00m\n\u001b[0;32m--> 603\u001b[0m     \u001b[38;5;28;43msuper\u001b[39;49m\u001b[43m(\u001b[49m\u001b[43m)\u001b[49m\u001b[38;5;241;43m.\u001b[39;49m\u001b[43m__post_init__\u001b[49m\u001b[43m(\u001b[49m\u001b[43m)\u001b[49m\n\u001b[1;32m    604\u001b[0m     \u001b[38;5;28;01mif\u001b[39;00m \u001b[38;5;28mself\u001b[39m\u001b[38;5;241m.\u001b[39mobs\u001b[38;5;241m.\u001b[39mshape \u001b[38;5;241m!=\u001b[39m \u001b[38;5;28mself\u001b[39m\u001b[38;5;241m.\u001b[39mnext_obs\u001b[38;5;241m.\u001b[39mshape:\n\u001b[1;32m    605\u001b[0m         \u001b[38;5;28;01mraise\u001b[39;00m \u001b[38;5;167;01mValueError\u001b[39;00m(\n\u001b[1;32m    606\u001b[0m             \u001b[38;5;124m\"\u001b[39m\u001b[38;5;124mobs and next_obs must have same shape: \u001b[39m\u001b[38;5;124m\"\u001b[39m\n\u001b[1;32m    607\u001b[0m             \u001b[38;5;124mf\u001b[39m\u001b[38;5;124m\"\u001b[39m\u001b[38;5;132;01m{\u001b[39;00m\u001b[38;5;28mself\u001b[39m\u001b[38;5;241m.\u001b[39mobs\u001b[38;5;241m.\u001b[39mshape\u001b[38;5;132;01m}\u001b[39;00m\u001b[38;5;124m != \u001b[39m\u001b[38;5;132;01m{\u001b[39;00m\u001b[38;5;28mself\u001b[39m\u001b[38;5;241m.\u001b[39mnext_obs\u001b[38;5;241m.\u001b[39mshape\u001b[38;5;132;01m}\u001b[39;00m\u001b[38;5;124m\"\u001b[39m,\n\u001b[1;32m    608\u001b[0m         )\n",
      "File \u001b[0;32m~/venvs/thesis_venv/lib/python3.8/site-packages/imitation/data/types.py:529\u001b[0m, in \u001b[0;36mTransitionsMinimal.__post_init__\u001b[0;34m(self)\u001b[0m\n\u001b[1;32m    526\u001b[0m         val\u001b[38;5;241m.\u001b[39msetflags(write\u001b[38;5;241m=\u001b[39m\u001b[38;5;28;01mFalse\u001b[39;00m)\n\u001b[1;32m    528\u001b[0m \u001b[38;5;28;01mif\u001b[39;00m \u001b[38;5;28mlen\u001b[39m(\u001b[38;5;28mself\u001b[39m\u001b[38;5;241m.\u001b[39mobs) \u001b[38;5;241m!=\u001b[39m \u001b[38;5;28mlen\u001b[39m(\u001b[38;5;28mself\u001b[39m\u001b[38;5;241m.\u001b[39macts):\n\u001b[0;32m--> 529\u001b[0m     \u001b[38;5;28;01mraise\u001b[39;00m \u001b[38;5;167;01mValueError\u001b[39;00m(\n\u001b[1;32m    530\u001b[0m         \u001b[38;5;124m\"\u001b[39m\u001b[38;5;124mobs and acts must have same number of timesteps: \u001b[39m\u001b[38;5;124m\"\u001b[39m\n\u001b[1;32m    531\u001b[0m         \u001b[38;5;124mf\u001b[39m\u001b[38;5;124m\"\u001b[39m\u001b[38;5;132;01m{\u001b[39;00m\u001b[38;5;28mlen\u001b[39m(\u001b[38;5;28mself\u001b[39m\u001b[38;5;241m.\u001b[39mobs)\u001b[38;5;132;01m}\u001b[39;00m\u001b[38;5;124m != \u001b[39m\u001b[38;5;132;01m{\u001b[39;00m\u001b[38;5;28mlen\u001b[39m(\u001b[38;5;28mself\u001b[39m\u001b[38;5;241m.\u001b[39macts)\u001b[38;5;132;01m}\u001b[39;00m\u001b[38;5;124m\"\u001b[39m,\n\u001b[1;32m    532\u001b[0m     )\n\u001b[1;32m    534\u001b[0m \u001b[38;5;28;01mif\u001b[39;00m \u001b[38;5;28mlen\u001b[39m(\u001b[38;5;28mself\u001b[39m\u001b[38;5;241m.\u001b[39minfos) \u001b[38;5;241m!=\u001b[39m \u001b[38;5;28mlen\u001b[39m(\u001b[38;5;28mself\u001b[39m\u001b[38;5;241m.\u001b[39mobs):\n\u001b[1;32m    535\u001b[0m     \u001b[38;5;28;01mraise\u001b[39;00m \u001b[38;5;167;01mValueError\u001b[39;00m(\n\u001b[1;32m    536\u001b[0m         \u001b[38;5;124m\"\u001b[39m\u001b[38;5;124mobs and infos must have same number of timesteps: \u001b[39m\u001b[38;5;124m\"\u001b[39m\n\u001b[1;32m    537\u001b[0m         \u001b[38;5;124mf\u001b[39m\u001b[38;5;124m\"\u001b[39m\u001b[38;5;132;01m{\u001b[39;00m\u001b[38;5;28mlen\u001b[39m(\u001b[38;5;28mself\u001b[39m\u001b[38;5;241m.\u001b[39mobs)\u001b[38;5;132;01m}\u001b[39;00m\u001b[38;5;124m != \u001b[39m\u001b[38;5;132;01m{\u001b[39;00m\u001b[38;5;28mlen\u001b[39m(\u001b[38;5;28mself\u001b[39m\u001b[38;5;241m.\u001b[39minfos)\u001b[38;5;132;01m}\u001b[39;00m\u001b[38;5;124m\"\u001b[39m,\n\u001b[1;32m    538\u001b[0m     )\n",
      "\u001b[0;31mValueError\u001b[0m: obs and acts must have same number of timesteps: 10 != 9"
     ]
    }
   ],
   "source": [
    "from imitation.data.types import Transitions\n",
    "import copy\n",
    "no_of_transitions = 10\n",
    "obs=np.ones(shape=(no_of_transitions,3))*3\n",
    "acts=np.ones(shape=(no_of_transitions-1,1))*5\n",
    "next_obs=np.ones(shape=(no_of_transitions,3))*7\n",
    "dones=np.zeros(shape=(no_of_transitions,1))\n",
    "infos= [{} for i in range(no_of_transitions-1)]\n",
    "next_obs=copy.deepcopy(obs)[1:]\n",
    "custom_dataset = Transitions(obs=obs, acts=acts,infos=infos,next_obs=next_obs,dones=dones)\n",
    "\n",
    "\n",
    "# rollout2= rollout.flatten_trajectories(custom_dataset)\n",
    "print(custom_dataset.obs.shape)\n",
    "print(custom_dataset[0])"
   ]
  },
  {
   "cell_type": "code",
   "execution_count": null,
   "id": "349ce8ae-3126-4414-8c7e-bf24d2b5cc65",
   "metadata": {},
   "outputs": [],
   "source": [
    "# bc_trainer = bc.BC(\n",
    "#     observation_space=env.observation_space,\n",
    "#     action_space=env.action_space,\n",
    "#     demonstrations=transitions,\n",
    "#     rng=rng,\n",
    "# )\n",
    "\n",
    "# evaluation_env = make_vec_env(\n",
    "#     \"seals:seals/CartPole-v0\",\n",
    "#     rng=rng,\n",
    "#     env_make_kwargs={\"render_mode\": \"human\"},  # for rendering\n",
    "# )\n",
    "\n",
    "# print(\"Evaluating the untrained policy.\")\n",
    "# reward, _ = evaluate_policy(\n",
    "#     bc_trainer.policy,  # type: ignore[arg-type]\n",
    "#     evaluation_env,\n",
    "#     n_eval_episodes=3,\n",
    "#     render=True,  # comment out to speed up\n",
    "# )\n",
    "# print(f\"Reward before training: {reward}\")\n",
    "\n",
    "# print(\"Training a policy using Behavior Cloning\")\n",
    "# bc_trainer.train(n_epochs=1)\n",
    "\n",
    "# print(\"Evaluating the trained policy.\")\n",
    "# reward, _ = evaluate_policy(\n",
    "#     bc_trainer.policy,  # type: ignore[arg-type]\n",
    "#     evaluation_env,\n",
    "#     n_eval_episodes=3,\n",
    "#     render=True,  # comment out to speed up\n",
    "# )\n",
    "# print(f\"Reward after training: {reward}\")"
   ]
  },
  {
   "cell_type": "code",
   "execution_count": null,
   "id": "aa2d2f84",
   "metadata": {},
   "outputs": [],
   "source": [
    "import random\n",
    "x_range = np.arange(1, 10, 0.1)\n",
    "y_range = np.arange(1, 10, 0.1)\n",
    "goal_poses = [(x, y) for x in x_range for y in y_range if np.sqrt((x - 2)**2 + (y - 1)**2) <= 10]\n",
    "\n",
    "# Randomly select a goal pose from the list\n",
    "goal_x, goal_y = random.choice(goal_poses)"
   ]
  },
  {
   "cell_type": "code",
   "execution_count": null,
   "id": "663dee97",
   "metadata": {},
   "outputs": [],
   "source": []
  }
 ],
 "metadata": {
  "kernelspec": {
   "display_name": "thesis_venv",
   "language": "python",
   "name": "thesis_venv"
  },
  "language_info": {
   "codemirror_mode": {
    "name": "ipython",
    "version": 3
   },
   "file_extension": ".py",
   "mimetype": "text/x-python",
   "name": "python",
   "nbconvert_exporter": "python",
   "pygments_lexer": "ipython3",
   "version": "3.8.10"
  }
 },
 "nbformat": 4,
 "nbformat_minor": 5
}
