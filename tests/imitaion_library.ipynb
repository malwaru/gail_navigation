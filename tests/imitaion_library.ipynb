{
 "cells": [
  {
   "cell_type": "code",
   "execution_count": 7,
   "id": "0f2a8296-db9e-41d4-b30d-e8deae92340b",
   "metadata": {},
   "outputs": [],
   "source": [
    "\"\"\"This is a simple example demonstrating how to clone the behavior of an expert.\n",
    "\n",
    "Refer to the jupyter notebooks for more detailed examples of how to use the algorithms.\n",
    "\"\"\"\n",
    "import numpy as np\n",
    "from stable_baselines3 import PPO\n",
    "from stable_baselines3.common.evaluation import evaluate_policy\n",
    "from stable_baselines3.ppo import MlpPolicy\n",
    "from imitation.data import rollout\n",
    "from imitation.data.wrappers import RolloutInfoWrapper\n",
    "from imitation.policies.serialize import load_policy\n",
    "from imitation.util.util import make_vec_env"
   ]
  },
  {
   "cell_type": "code",
   "execution_count": 8,
   "id": "f4af5198-06eb-4aeb-8692-4119ee1826e6",
   "metadata": {},
   "outputs": [],
   "source": [
    "rng = np.random.default_rng(0)\n",
    "env = make_vec_env(\n",
    "    \"seals:seals/CartPole-v0\",\n",
    "    rng=rng,\n",
    "    post_wrappers=[lambda env, _: RolloutInfoWrapper(env)],  # for computing rollouts\n",
    ")"
   ]
  },
  {
   "cell_type": "code",
   "execution_count": 9,
   "id": "9abd2f11-401c-4d56-9c4f-3ad22d21ec6d",
   "metadata": {},
   "outputs": [],
   "source": [
    "def train_expert():\n",
    "    # note: use `download_expert` instead to download a pretrained, competent expert\n",
    "    print(\"Training a expert.\")\n",
    "    expert = PPO(\n",
    "        policy=MlpPolicy,\n",
    "        env=env,\n",
    "        seed=0,\n",
    "        batch_size=64,\n",
    "        ent_coef=0.0,\n",
    "        learning_rate=0.0003,\n",
    "        n_epochs=10,\n",
    "        n_steps=64,\n",
    "    )\n",
    "    expert.learn(1_000)  # Note: change this to 100_000 to train a decent expert.\n",
    "    return expert\n",
    "\n",
    "\n",
    "def download_expert():\n",
    "    print(\"Downloading a pretrained expert.\")\n",
    "    expert = load_policy(\n",
    "        \"ppo-huggingface\",\n",
    "        organization=\"HumanCompatibleAI\",\n",
    "        env_name=\"seals-CartPole-v0\",\n",
    "        venv=env,\n",
    "    )\n",
    "    return expert\n",
    "\n",
    "\n",
    "def sample_expert_transitions():\n",
    "    # expert = train_expert()  # uncomment to train your own expert\n",
    "    expert = download_expert()\n",
    "\n",
    "    print(\"Sampling expert transitions.\")\n",
    "    rollouts = rollout.rollout(\n",
    "        expert,\n",
    "        env,\n",
    "        rollout.make_sample_until(min_timesteps=None, min_episodes=50),\n",
    "        rng=rng,\n",
    "    )\n",
    "    return rollouts"
   ]
  },
  {
   "cell_type": "code",
   "execution_count": 10,
   "id": "a017d2fa-4633-42cc-87c5-6f36e836ca43",
   "metadata": {},
   "outputs": [
    {
     "name": "stdout",
     "output_type": "stream",
     "text": [
      "Downloading a pretrained expert.\n",
      "Sampling expert transitions.\n"
     ]
    }
   ],
   "source": [
    "transitions = sample_expert_transitions()"
   ]
  },
  {
   "cell_type": "code",
   "execution_count": 11,
   "id": "70dbada9-d9e0-4b6a-88ca-33388fff1e62",
   "metadata": {},
   "outputs": [
    {
     "name": "stdout",
     "output_type": "stream",
     "text": [
      "(501, 4)\n"
     ]
    }
   ],
   "source": [
    "print(transitions[0].obs.shape)\n"
   ]
  },
  {
   "cell_type": "code",
   "execution_count": null,
   "id": "676de101",
   "metadata": {},
   "outputs": [],
   "source": [
    "# from imitation.data.types import Transitions\n",
    "# import copy\n",
    "# no_of_transitions = 10\n",
    "# obs=np.ones(shape=(no_of_transitions,3))*3\n",
    "# acts=np.ones(shape=(no_of_transitions-1,1))*5\n",
    "# next_obs=np.ones(shape=(no_of_transitions,3))*7\n",
    "# dones=np.zeros(shape=(no_of_transitions,1))\n",
    "# infos= [{} for i in range(no_of_transitions-1)]\n",
    "# next_obs=copy.deepcopy(obs)[1:]\n",
    "# custom_dataset = Transitions(obs=obs, acts=acts,infos=infos,next_obs=next_obs,dones=dones)\n",
    "\n",
    "\n",
    "# # rollout2= rollout.flatten_trajectories(custom_dataset)\n",
    "# print(custom_dataset.obs.shape)\n",
    "# print(custom_dataset[0])"
   ]
  },
  {
   "cell_type": "code",
   "execution_count": null,
   "id": "349ce8ae-3126-4414-8c7e-bf24d2b5cc65",
   "metadata": {},
   "outputs": [],
   "source": [
    "# bc_trainer = bc.BC(\n",
    "#     observation_space=env.observation_space,\n",
    "#     action_space=env.action_space,\n",
    "#     demonstrations=transitions,\n",
    "#     rng=rng,\n",
    "# )\n",
    "\n",
    "# evaluation_env = make_vec_env(\n",
    "#     \"seals:seals/CartPole-v0\",\n",
    "#     rng=rng,\n",
    "#     env_make_kwargs={\"render_mode\": \"human\"},  # for rendering\n",
    "# )\n",
    "\n",
    "# print(\"Evaluating the untrained policy.\")\n",
    "# reward, _ = evaluate_policy(\n",
    "#     bc_trainer.policy,  # type: ignore[arg-type]\n",
    "#     evaluation_env,\n",
    "#     n_eval_episodes=3,\n",
    "#     render=True,  # comment out to speed up\n",
    "# )\n",
    "# print(f\"Reward before training: {reward}\")\n",
    "\n",
    "# print(\"Training a policy using Behavior Cloning\")\n",
    "# bc_trainer.train(n_epochs=1)\n",
    "\n",
    "# print(\"Evaluating the trained policy.\")\n",
    "# reward, _ = evaluate_policy(\n",
    "#     bc_trainer.policy,  # type: ignore[arg-type]\n",
    "#     evaluation_env,\n",
    "#     n_eval_episodes=3,\n",
    "#     render=True,  # comment out to speed up\n",
    "# )\n",
    "# print(f\"Reward after training: {reward}\")"
   ]
  },
  {
   "cell_type": "code",
   "execution_count": null,
   "id": "aa2d2f84",
   "metadata": {},
   "outputs": [],
   "source": [
    "import random\n",
    "x_range = np.arange(1, 10, 0.1)\n",
    "y_range = np.arange(1, 10, 0.1)\n",
    "goal_poses = [(x, y) for x in x_range for y in y_range if np.sqrt((x - 2)**2 + (y - 1)**2) <= 10]\n",
    "\n",
    "# Randomly select a goal pose from the list\n",
    "goal_x, goal_y = random.choice(goal_poses)"
   ]
  },
  {
   "cell_type": "code",
   "execution_count": null,
   "id": "663dee97",
   "metadata": {},
   "outputs": [],
   "source": []
  }
 ],
 "metadata": {
  "kernelspec": {
   "display_name": "thesis_venv",
   "language": "python",
   "name": "thesis_venv"
  },
  "language_info": {
   "codemirror_mode": {
    "name": "ipython",
    "version": 3
   },
   "file_extension": ".py",
   "mimetype": "text/x-python",
   "name": "python",
   "nbconvert_exporter": "python",
   "pygments_lexer": "ipython3",
   "version": "3.8.10"
  }
 },
 "nbformat": 4,
 "nbformat_minor": 5
}
