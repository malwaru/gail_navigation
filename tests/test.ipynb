{
 "cells": [
  {
   "cell_type": "code",
   "execution_count": 7,
   "metadata": {},
   "outputs": [],
   "source": [
    "import numpy as np\n",
    "from imitation.policies.serialize import load_policy\n",
    "from imitation.util.util import make_vec_env\n",
    "from imitation.data.wrappers import RolloutInfoWrapper\n",
    "from imitation.data import rollout\n",
    "from imitation.algorithms.adversarial.gail import GAIL\n",
    "from imitation.rewards.reward_nets import BasicRewardNet\n",
    "from imitation.util.networks import RunningNorm\n",
    "from stable_baselines3 import PPO\n",
    "from stable_baselines3.ppo import MlpPolicy\n",
    "from stable_baselines3.common.evaluation import evaluate_policy\n",
    "from imitation.data.types import Trajectory,DictObs,TrajectoryWithRew,Tuple\n",
    "import h5py\n",
    "from GailNavigationNetwork.model import NaviNet\n",
    "from GailNavigationNetwork.utilities import preprocess\n",
    "\n",
    "\n"
   ]
  },
  {
   "cell_type": "code",
   "execution_count": 8,
   "metadata": {},
   "outputs": [],
   "source": [
    "def create_demos(file_path,DEVICE=\"cuda\"):\n",
    "    '''\n",
    "    Creates a gymnasium transition from the given file path\n",
    "    of hdf5 file of known structure\n",
    "\n",
    "    Args:\n",
    "    file_path: str  \n",
    "    Path to the hdf5 file   \n",
    "\n",
    "    Returns:\n",
    "    rollouts: gymnasium.Transition\n",
    "\n",
    "    '''    \n",
    "    read_file= h5py.File(file_path, \"r\")\n",
    "    model= NaviNet().to(DEVICE)\n",
    "    model.eval()\n",
    "    len= read_file['kris_dynamics']['odom_data']['target_vector'].shape[0]\n",
    "    rgbs=[]\n",
    "    depths=[]\n",
    "    targets=[]  \n",
    "    acts=[]\n",
    "    ob=[]\n",
    "    for i in range(len):\n",
    "        target=read_file['kris_dynamics']['odom_data']['target_vector'][i]\n",
    "        rgb=read_file['images']['rgb_data'][i]\n",
    "        depth=read_file['images']['depth_data'][i]\n",
    "        act=read_file['kris_dynamics']['odom_data']['odom_data_wheel'][i]\n",
    "        # print(f\"depth shape in rollout {depth.shape}\")\n",
    "        rgb=preprocess(rgb)\n",
    "        depth=preprocess(depth)\n",
    "        # rgb,depth=preprocess(rgb,depth)\n",
    "        (rgb, depth) = (rgb.to(DEVICE), depth.to(DEVICE))\n",
    "        rgb_features, depth_features = model(rgb,depth)\n",
    "        rgb_features=rgb_features.detach().cpu().numpy()\n",
    "        depth_features=depth_features.detach().cpu().numpy()\n",
    "        # rgbs.append(rgb_features)\n",
    "        # depths.append(depth_features)\n",
    "        # targets.append(target) \n",
    "        ob.append((target,rgb_features,depth_features))\n",
    "        acts.append(act)\n",
    "        \n",
    "\n",
    "    acts=np.array(acts[:-1])\n",
    "    dones=[False for i in range(len)]\n",
    "    dones[-1]=True\n",
    "    infos= [{} for i in range(len-1)]\n",
    "    # rgbs=np.array(rgbs).reshape(25, 1, 1280, 8, 10)\n",
    "    # depths=np.array(depths).reshape(25, 1,  238, 318)\n",
    "    # targets=np.array(targets).reshape(25, 1, 7)\n",
    "\n",
    "\n",
    "    # obs_tuple = (\n",
    "    # targets.reshape(25, 1, 7),\n",
    "    # rgbs.reshape(25, 1, 1280, 8, 10),\n",
    "    # depths.reshape(25, 1,  238, 318)\n",
    "    # )   \n",
    "\n",
    "\n",
    "# Combine into one tuple\n",
    "\n",
    "    # obs_dict=tuple((targets,\n",
    "    #         rgbs,\n",
    "    #          depths))\n",
    "    # for i in range(len-1):\n",
    "    #     obs_dict[0][i]=np.array(obs_dict[0][i])\n",
    "    #     obs_dict[1][i]=np.array(obs_dict[1][i])\n",
    "    #     obs_dict[2][i]=np.array(obs_dict[2][i])\n",
    "    \n",
    "    # print(f\"obs_dict shape {obs_tuple[0].shape} {obs_tuple[1].shape} {obs_tuple[2].shape}\")\n",
    "    ob=np.array(ob)\n",
    "\n",
    "    traj = Trajectory(obs=ob, acts=acts,infos=infos,terminal=dones)\n",
    "\n",
    "\n",
    "    return rollout.flatten_trajectories([traj])\n",
    "\n"
   ]
  },
  {
   "cell_type": "code",
   "execution_count": 9,
   "metadata": {},
   "outputs": [
    {
     "ename": "AssertionError",
     "evalue": "",
     "output_type": "error",
     "traceback": [
      "\u001b[0;31m---------------------------------------------------------------------------\u001b[0m",
      "\u001b[0;31mAssertionError\u001b[0m                            Traceback (most recent call last)",
      "Cell \u001b[0;32mIn[9], line 2\u001b[0m\n\u001b[1;32m      1\u001b[0m file_path\u001b[38;5;241m=\u001b[39m\u001b[38;5;124m\"\u001b[39m\u001b[38;5;124m/home/foxy_user/foxy_ws/src/gail_navigation/GailNavigationNetwork/data/traj2.hdf5\u001b[39m\u001b[38;5;124m\"\u001b[39m\n\u001b[0;32m----> 2\u001b[0m demonstrations,rollout\u001b[38;5;241m=\u001b[39m\u001b[43mcreate_demos\u001b[49m\u001b[43m(\u001b[49m\u001b[43mfile_path\u001b[49m\u001b[43m)\u001b[49m\n\u001b[1;32m      3\u001b[0m \u001b[38;5;28mprint\u001b[39m(\u001b[38;5;124mf\u001b[39m\u001b[38;5;124m\"\u001b[39m\u001b[38;5;124mrollout \u001b[39m\u001b[38;5;132;01m{\u001b[39;00mrollout[\u001b[38;5;241m0\u001b[39m]\u001b[38;5;132;01m}\u001b[39;00m\u001b[38;5;124m\"\u001b[39m)\n",
      "Cell \u001b[0;32mIn[8], line 75\u001b[0m, in \u001b[0;36mcreate_demos\u001b[0;34m(file_path, DEVICE)\u001b[0m\n\u001b[1;32m     47\u001b[0m \u001b[38;5;66;03m# rgbs=np.array(rgbs).reshape(25, 1, 1280, 8, 10)\u001b[39;00m\n\u001b[1;32m     48\u001b[0m \u001b[38;5;66;03m# depths=np.array(depths).reshape(25, 1,  238, 318)\u001b[39;00m\n\u001b[1;32m     49\u001b[0m \u001b[38;5;66;03m# targets=np.array(targets).reshape(25, 1, 7)\u001b[39;00m\n\u001b[0;32m   (...)\u001b[0m\n\u001b[1;32m     68\u001b[0m \n\u001b[1;32m     69\u001b[0m \u001b[38;5;66;03m# print(f\"obs_dict shape {obs_tuple[0].shape} {obs_tuple[1].shape} {obs_tuple[2].shape}\")\u001b[39;00m\n\u001b[1;32m     72\u001b[0m traj \u001b[38;5;241m=\u001b[39m Trajectory(obs\u001b[38;5;241m=\u001b[39mob, acts\u001b[38;5;241m=\u001b[39macts,infos\u001b[38;5;241m=\u001b[39minfos,terminal\u001b[38;5;241m=\u001b[39mdones)\n\u001b[0;32m---> 75\u001b[0m \u001b[38;5;28;01mreturn\u001b[39;00m \u001b[43mrollout\u001b[49m\u001b[38;5;241;43m.\u001b[39;49m\u001b[43mflatten_trajectories\u001b[49m\u001b[43m(\u001b[49m\u001b[43m[\u001b[49m\u001b[43mtraj\u001b[49m\u001b[43m]\u001b[49m\u001b[43m)\u001b[49m\n",
      "File \u001b[0;32m~/venvs/thesis_venv/lib/python3.8/site-packages/imitation/data/rollout.py:580\u001b[0m, in \u001b[0;36mflatten_trajectories\u001b[0;34m(trajectories)\u001b[0m\n\u001b[1;32m    575\u001b[0m \u001b[38;5;28;01mdef\u001b[39;00m \u001b[38;5;21mall_of_type\u001b[39m(key, desired_type):\n\u001b[1;32m    576\u001b[0m     \u001b[38;5;28;01mreturn\u001b[39;00m \u001b[38;5;28mall\u001b[39m(\n\u001b[1;32m    577\u001b[0m         \u001b[38;5;28misinstance\u001b[39m(\u001b[38;5;28mgetattr\u001b[39m(traj, key), desired_type) \u001b[38;5;28;01mfor\u001b[39;00m traj \u001b[38;5;129;01min\u001b[39;00m trajectories\n\u001b[1;32m    578\u001b[0m     )\n\u001b[0;32m--> 580\u001b[0m \u001b[38;5;28;01massert\u001b[39;00m all_of_type(\u001b[38;5;124m\"\u001b[39m\u001b[38;5;124mobs\u001b[39m\u001b[38;5;124m\"\u001b[39m, types\u001b[38;5;241m.\u001b[39mDictObs) \u001b[38;5;129;01mor\u001b[39;00m all_of_type(\u001b[38;5;124m\"\u001b[39m\u001b[38;5;124mobs\u001b[39m\u001b[38;5;124m\"\u001b[39m, np\u001b[38;5;241m.\u001b[39mndarray)\n\u001b[1;32m    581\u001b[0m \u001b[38;5;28;01massert\u001b[39;00m all_of_type(\u001b[38;5;124m\"\u001b[39m\u001b[38;5;124macts\u001b[39m\u001b[38;5;124m\"\u001b[39m, np\u001b[38;5;241m.\u001b[39mndarray)\n\u001b[1;32m    583\u001b[0m \u001b[38;5;66;03m# mypy struggles without Any annotation here.\u001b[39;00m\n\u001b[1;32m    584\u001b[0m \u001b[38;5;66;03m# The necessary constraints are enforced above.\u001b[39;00m\n",
      "\u001b[0;31mAssertionError\u001b[0m: "
     ]
    }
   ],
   "source": [
    "file_path=\"/home/foxy_user/foxy_ws/src/gail_navigation/GailNavigationNetwork/data/traj2.hdf5\"\n",
    "demonstrations,rollout=create_demos(file_path)\n",
    "print(f\"rollout {rollout[0]}\")"
   ]
  },
  {
   "cell_type": "code",
   "execution_count": null,
   "metadata": {},
   "outputs": [],
   "source": []
  },
  {
   "cell_type": "code",
   "execution_count": null,
   "metadata": {},
   "outputs": [],
   "source": []
  }
 ],
 "metadata": {
  "kernelspec": {
   "display_name": "thesis_venv",
   "language": "python",
   "name": "thesis_venv"
  },
  "language_info": {
   "codemirror_mode": {
    "name": "ipython",
    "version": 3
   },
   "file_extension": ".py",
   "mimetype": "text/x-python",
   "name": "python",
   "nbconvert_exporter": "python",
   "pygments_lexer": "ipython3",
   "version": "3.8.10"
  }
 },
 "nbformat": 4,
 "nbformat_minor": 2
}
