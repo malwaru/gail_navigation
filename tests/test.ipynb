{
 "cells": [
  {
   "cell_type": "code",
   "execution_count": 1,
   "metadata": {},
   "outputs": [],
   "source": [
    "import numpy as np\n",
    "import random\n",
    "import yaml \n"
   ]
  },
  {
   "cell_type": "code",
   "execution_count": 2,
   "metadata": {},
   "outputs": [],
   "source": [
    "\n",
    "# file_path='/home/foxy_user/foxy_ws/src/gail_navigation/GailNavigationNetwork/data/Misc/start_poses.yaml'\n",
    "# with open(file_path, 'r') as file:\n",
    "#             data = yaml.safe_load(file)\n",
    "# # start_pose_array = np.array(data.get['start_poses',[]])\n",
    "# start_pose_array=data['easy']\n",
    "\n",
    "# print (start_pose_array[0])\n",
    "# start_pose_int = np.random.randint(0,10)\n",
    "# origin_x = start_pose_array[start_pose_int][0]\n",
    "# origin_y = start_pose_array[start_pose_int][1]            \n",
    "# origin_yaw = [0.0,0.0,np.random.uniform(0, 2 * np.pi) ]\n",
    "# print(origin_x,origin_y,origin_yaw)"
   ]
  },
  {
   "cell_type": "code",
   "execution_count": 10,
   "metadata": {},
   "outputs": [
    {
     "name": "stdout",
     "output_type": "stream",
     "text": [
      "False\n",
      "After assoigning \n",
      "3.605551275463989\n"
     ]
    }
   ],
   "source": [
    "target_vector = None\n",
    "target_vector_tolerance = 0.1\n",
    "\n",
    "\n",
    "\n",
    "if target_vector is None or (np.linalg.norm(target_vector) > target_vector_tolerance):\n",
    "    a=False\n",
    "else:\n",
    "    a=True\n",
    "\n",
    "print(a)\n",
    "print(f\"After assoigning \")\n",
    "target_vector = np.array([2.0,3.0,100.0])\n",
    "abs_distance = np.sqrt(np.sum(np.square(target_vector[0:2])))\n",
    "print(abs_distance)\n"
   ]
  },
  {
   "cell_type": "code",
   "execution_count": null,
   "metadata": {},
   "outputs": [],
   "source": []
  }
 ],
 "metadata": {
  "kernelspec": {
   "display_name": "thesis_venv",
   "language": "python",
   "name": "thesis_venv"
  },
  "language_info": {
   "codemirror_mode": {
    "name": "ipython",
    "version": 3
   },
   "file_extension": ".py",
   "mimetype": "text/x-python",
   "name": "python",
   "nbconvert_exporter": "python",
   "pygments_lexer": "ipython3",
   "version": "3.8.10"
  }
 },
 "nbformat": 4,
 "nbformat_minor": 2
}
