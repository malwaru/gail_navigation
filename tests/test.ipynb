{
 "cells": [
  {
   "cell_type": "code",
   "execution_count": 1,
   "metadata": {},
   "outputs": [],
   "source": [
    "import numpy as np\n",
    "import random\n",
    "import yaml \n"
   ]
  },
  {
   "cell_type": "code",
   "execution_count": 2,
   "metadata": {},
   "outputs": [
    {
     "name": "stdout",
     "output_type": "stream",
     "text": [
      "[1.0, 2.0, 0.5]\n",
      "1.0 2.0 [0.0, 0.0, 4.022982436558966]\n"
     ]
    }
   ],
   "source": [
    "\n",
    "file_path='/home/foxy_user/foxy_ws/src/gail_navigation/GailNavigationNetwork/data/Misc/start_poses.yaml'\n",
    "with open(file_path, 'r') as file:\n",
    "            data = yaml.safe_load(file)\n",
    "# start_pose_array = np.array(data.get['start_poses',[]])\n",
    "start_pose_array=data['easy']\n",
    "\n",
    "print (start_pose_array[0])\n",
    "start_pose_int = np.random.randint(0,10)\n",
    "origin_x = start_pose_array[start_pose_int][0]\n",
    "origin_y = start_pose_array[start_pose_int][1]            \n",
    "origin_yaw = [0.0,0.0,np.random.uniform(0, 2 * np.pi) ]\n",
    "print(origin_x,origin_y,origin_yaw)"
   ]
  },
  {
   "cell_type": "code",
   "execution_count": null,
   "metadata": {},
   "outputs": [],
   "source": []
  }
 ],
 "metadata": {
  "kernelspec": {
   "display_name": "thesis_venv",
   "language": "python",
   "name": "thesis_venv"
  },
  "language_info": {
   "codemirror_mode": {
    "name": "ipython",
    "version": 3
   },
   "file_extension": ".py",
   "mimetype": "text/x-python",
   "name": "python",
   "nbconvert_exporter": "python",
   "pygments_lexer": "ipython3",
   "version": "3.8.10"
  }
 },
 "nbformat": 4,
 "nbformat_minor": 2
}
