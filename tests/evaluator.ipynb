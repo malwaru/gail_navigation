{
 "cells": [
  {
   "cell_type": "code",
   "execution_count": 1,
   "id": "59ae8c1e-25a8-42b8-ad96-86426700fc05",
   "metadata": {},
   "outputs": [],
   "source": [
    "import numpy as np\n",
    "import h5py\n",
    "import cv2\n",
    "import glob\n",
    "import matplotlib.pyplot as plt"
   ]
  },
  {
   "cell_type": "markdown",
   "id": "bd054656-3c85-4f13-8560-4f94aeb06d99",
   "metadata": {},
   "source": [
    "# The bytes file version"
   ]
  },
  {
   "cell_type": "code",
   "execution_count": 11,
   "id": "45be4c09-fb63-47d5-8937-8e34b7dc9db8",
   "metadata": {},
   "outputs": [],
   "source": [
    "def visualise_goal_vs_path(poses,start,goal):\n",
    "    '''\n",
    "    Visualise the goal path and the path taken\n",
    "    \n",
    "    \n",
    "    '''\n",
    "\n",
    "    start_x=start[0]\n",
    "    start_y=start[1]    \n",
    "    goal_x=goal[0]\n",
    "    goal_y=goal[1]\n",
    "    path_x=poses[:,0]\n",
    "    path_y=poses[:,1]\n",
    "    plt.plot(start_x,start_y,'ro',label=\"start\")\n",
    "    plt.plot(goal_x,goal_y,'go',label=\"goal\")\n",
    "    plt.plot(path_x,path_y,'-b',label=\"path\")\n",
    "    plt.xlabel('X')\n",
    "    plt.ylabel('Y')\n",
    "    plt.title('Goal vs Path')\n",
    "    plt.legend(loc=\"upper left\")\n",
    "    plt.show()\n",
    "\n",
    "\n",
    "\n",
    "def visualise_target_vs_iters(targets):\n",
    "    '''\n",
    "    Visualise the goal path and the path taken\n",
    "    \n",
    "    \n",
    "    '''\n",
    "    abs_targets=np.ones(shape=(len(targets),1))\n",
    "    abs_targets[:,0]=np.square(np.sum(targets[:,0],targets[:,1],axis=0))   \n",
    "    abs_targets[:,0]=np.sqrt(abs_targets[:,0])\n",
    "\n",
    "\n",
    "\n",
    "def read_dataset(file_path):\n",
    "    '''\n",
    "    Read the data files from the dataset\n",
    "    '''\n",
    "    read_file= h5py.File(file_path, \"r\")\n",
    "    batch_size= read_file['kris_dynamics']['odom_data']['target_vector'].shape[0]\n",
    "    rgbs=[]\n",
    "    depths=[]\n",
    "    targets=[]  \n",
    "    acts=[]\n",
    "    for i in range(batch_size):\n",
    "        target=read_file['kris_dynamics']['odom_data']['target_vector'][i]\n",
    "        rgb=read_file['images']['rgb_data'][i]\n",
    "        depth=read_file['images']['depth_data'][i]\n",
    "        act=read_file['kris_dynamics']['odom_data']['odom_data_wheel'][i]    \n",
    "        ## If visualisation is needed\n",
    "        # if visualise_img:\n",
    "        #     visualise(rgb_features,depth_features)  \n",
    "        rgbs.append(rgb)\n",
    "        depths.append(depth)\n",
    "        targets.append(target) \n",
    "        acts.append(act)\n",
    "\n",
    "    acts=np.array(acts[:-1])\n",
    "    rgbs=np.array(rgbs)\n",
    "    depths=np.array(depths)\n",
    "    targets=np.array(targets)\n",
    "\n",
    "    return acts,targets"
   ]
  },
  {
   "cell_type": "code",
   "execution_count": 12,
   "id": "396fa535-ed9f-442e-b286-6c69ddf30bdc",
   "metadata": {},
   "outputs": [
    {
     "name": "stdout",
     "output_type": "stream",
     "text": [
      "tagget shape (48, 7)\n"
     ]
    }
   ],
   "source": [
    "demo_file='../GailNavigationNetwork/data/trajectories/hard_world/traj1.hdf5'\n",
    "test_file=''\n",
    "acts,target=read_dataset(demo_file)\n",
    "starting_pose=acts[0]\n",
    "goal_pose=starting_pose+target[0]\n",
    "print(f\"tagget shape {target.shape}\")"
   ]
  },
  {
   "cell_type": "code",
   "execution_count": null,
   "id": "9823a37f",
   "metadata": {},
   "outputs": [],
   "source": []
  }
 ],
 "metadata": {
  "kernelspec": {
   "display_name": "thesis_venv",
   "language": "python",
   "name": "thesis_venv"
  },
  "language_info": {
   "codemirror_mode": {
    "name": "ipython",
    "version": 3
   },
   "file_extension": ".py",
   "mimetype": "text/x-python",
   "name": "python",
   "nbconvert_exporter": "python",
   "pygments_lexer": "ipython3",
   "version": "3.8.10"
  }
 },
 "nbformat": 4,
 "nbformat_minor": 5
}
