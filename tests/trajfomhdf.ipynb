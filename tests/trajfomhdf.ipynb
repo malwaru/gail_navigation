{
 "cells": [
  {
   "cell_type": "code",
   "execution_count": 1,
   "id": "0f2a8296-db9e-41d4-b30d-e8deae92340b",
   "metadata": {},
   "outputs": [],
   "source": [
    "import numpy as np\n",
    "from imitation.data.types import Trajectory,Transitions,DictObs\n",
    "import h5py\n",
    "from imitation.data import rollout\n",
    "from imitation.data.wrappers import RolloutInfoWrapper\n",
    "import copy\n",
    "\n"
   ]
  },
  {
   "cell_type": "code",
   "execution_count": 2,
   "id": "162f410f",
   "metadata": {},
   "outputs": [
    {
     "name": "stdout",
     "output_type": "stream",
     "text": [
      "list of kesy ['images', 'kris_dynamics']\n"
     ]
    }
   ],
   "source": [
    "file_path=\"/home/foxy_user/foxy_ws/src/gail_navigation/GailNavigationNetwork/data/traj2.hdf5\"\n",
    "read_file= h5py.File(file_path, \"r\")\n",
    "print(f\"list of kesy {list(read_file.keys())}\")\n",
    "len= read_file['kris_dynamics']['odom_data']['target_vector'].shape[0]\n"
   ]
  },
  {
   "cell_type": "code",
   "execution_count": 3,
   "id": "f324cd09",
   "metadata": {},
   "outputs": [
    {
     "ename": "TypeError",
     "evalue": "'builtin_function_or_method' object cannot be interpreted as an integer",
     "output_type": "error",
     "traceback": [
      "\u001b[0;31m---------------------------------------------------------------------------\u001b[0m",
      "\u001b[0;31mTypeError\u001b[0m                                 Traceback (most recent call last)",
      "Cell \u001b[0;32mIn[3], line 5\u001b[0m\n\u001b[1;32m      3\u001b[0m targets\u001b[38;5;241m=\u001b[39m[]  \n\u001b[1;32m      4\u001b[0m acts\u001b[38;5;241m=\u001b[39m[]\n\u001b[0;32m----> 5\u001b[0m \u001b[38;5;28;01mfor\u001b[39;00m i \u001b[38;5;129;01min\u001b[39;00m \u001b[38;5;28;43mrange\u001b[39;49m\u001b[43m(\u001b[49m\u001b[38;5;28;43mlen\u001b[39;49m\u001b[43m)\u001b[49m:\n\u001b[1;32m      6\u001b[0m     target\u001b[38;5;241m=\u001b[39mread_file[\u001b[38;5;124m'\u001b[39m\u001b[38;5;124mkris_dynamics\u001b[39m\u001b[38;5;124m'\u001b[39m][\u001b[38;5;124m'\u001b[39m\u001b[38;5;124modom_data\u001b[39m\u001b[38;5;124m'\u001b[39m][\u001b[38;5;124m'\u001b[39m\u001b[38;5;124mtarget_vector\u001b[39m\u001b[38;5;124m'\u001b[39m][i]\n\u001b[1;32m      7\u001b[0m     rgb\u001b[38;5;241m=\u001b[39mread_file[\u001b[38;5;124m'\u001b[39m\u001b[38;5;124mimages\u001b[39m\u001b[38;5;124m'\u001b[39m][\u001b[38;5;124m'\u001b[39m\u001b[38;5;124mrgb_data\u001b[39m\u001b[38;5;124m'\u001b[39m][i]\n",
      "\u001b[0;31mTypeError\u001b[0m: 'builtin_function_or_method' object cannot be interpreted as an integer"
     ]
    }
   ],
   "source": [
    "rgbs=[]\n",
    "depths=[]\n",
    "targets=[]  \n",
    "acts=[]\n",
    "for i in range(len):\n",
    "    target=read_file['kris_dynamics']['odom_data']['target_vector'][i]\n",
    "    rgb=read_file['images']['rgb_data'][i]\n",
    "    depth=read_file['images']['depth_data'][i]\n",
    "    act=read_file['kris_dynamics']['odom_data']['odom_data_wheel'][i]\n",
    "    rgbs.append(rgb)\n",
    "    depths.append(depth)\n",
    "    targets.append(target) \n",
    "    acts.append(act)\n",
    "# print(obs)\n",
    "obs_dict=DictObs( {'target_vector':np.array([targets]),\n",
    "            'rgb_features':np.array([rgbs]),\n",
    "            'depth_features':np.array([depths])})\n",
    "print(f\"obs_dict shape {obs_dict.shape}\")\n"
   ]
  },
  {
   "cell_type": "code",
   "execution_count": null,
   "id": "8aea8391",
   "metadata": {},
   "outputs": [],
   "source": [
    "\n",
    "acts=np.array(acts[:-1])\n",
    "dones=np.zeros(shape=(len,1))\n",
    "dones[-1]=1\n",
    "infos= [{} for i in range(len-1)]\n",
    "acts=np.array(acts)\n",
    "\n",
    "custom_dataset = Trajectory(obs=obs_dict, acts=acts,infos=infos,terminal=dones)\n"
   ]
  },
  {
   "cell_type": "code",
   "execution_count": null,
   "id": "7d370344",
   "metadata": {},
   "outputs": [],
   "source": [
    "rollout2= rollout.flatten_trajectories([custom_dataset])\n",
    "# # counter=0\n",
    "# # for d in custom_dataset:\n",
    "# #     print(d)\n",
    "# #     if counter==10:\n",
    "# #         break\n",
    "# print(custom_dataset.shape)"
   ]
  },
  {
   "cell_type": "code",
   "execution_count": null,
   "id": "04b6a25e",
   "metadata": {},
   "outputs": [],
   "source": [
    "\n",
    "# len= read_file['kris_dynamics']['odom_data']['target_vector'].shape[0]\n",
    "# obs=[]\n",
    "# acts=[]\n",
    "# for i in range(len):\n",
    "#     target=read_file['kris_dynamics']['odom_data']['target_vector'][i]\n",
    "#     rgb=read_file['images']['rgb_data'][i]\n",
    "#     depth=read_file['images']['depth_data'][i]\n",
    "#     act=read_file['kris_dynamics']['odom_data']['odom_data_wheel'][i]\n",
    "#     obs.append([target,rgb,depth])\n",
    "    \n",
    "#     acts.append(act)\n",
    "\n",
    "\n",
    "# dones=np.zeros(shape=(len,1))\n",
    "# dones[-1]=1\n",
    "# infos= [{} for i in range(len)]\n",
    "# next_obs=copy.deepcopy(obs[1:])\n",
    "# custom_dataset = Transitions(obs=np.array(obs), acts=np.array(acts),infos=infos,next_obs=next_obs,dones=dones)\n"
   ]
  },
  {
   "cell_type": "code",
   "execution_count": null,
   "id": "3af871c9",
   "metadata": {},
   "outputs": [],
   "source": [
    "# import numpy as np\n",
    "# from imitation.policies.serialize import load_policy\n",
    "# from imitation.util.util import make_vec_env\n",
    "# from imitation.data.wrappers import RolloutInfoWrapper\n",
    "# from imitation.data import rollout\n",
    "\n",
    "\n",
    "# SEED = 42\n",
    "\n",
    "# env = make_vec_env(\n",
    "#     \"seals:seals/CartPole-v0\",\n",
    "#     rng=np.random.default_rng(SEED),\n",
    "#     n_envs=8,\n",
    "#     post_wrappers=[\n",
    "#         lambda env, _: RolloutInfoWrapper(env)\n",
    "#     ],  # needed for computing rollouts later\n",
    "# )\n",
    "# expert = load_policy(\n",
    "#     \"ppo-huggingface\",\n",
    "#     organization=\"HumanCompatibleAI\",\n",
    "#     env_name=\"seals/CartPole-v0\",\n",
    "#     venv=env,\n",
    "# )\n",
    "\n",
    "# rollouts = rollout.rollout(\n",
    "#     expert,\n",
    "#     env,\n",
    "#     rollout.make_sample_until(min_timesteps=None, min_episodes=60),\n",
    "#     rng=np.random.default_rng(SEED),\n",
    "# )"
   ]
  },
  {
   "cell_type": "code",
   "execution_count": null,
   "id": "dfb906ed",
   "metadata": {},
   "outputs": [],
   "source": [
    "# no_of_transitions = 10\n",
    "# obs=np.ones(shape=(no_of_transitions,3))*3\n",
    "# acts=np.ones(shape=(no_of_transitions-1,1))*5\n",
    "# next_obs=np.ones(shape=(no_of_transitions,3))*7\n",
    "# dones=np.zeros(shape=(no_of_transitions,1))\n",
    "# infos= [{} for i in range(no_of_transitions-1)]\n",
    "# custom_dataset = Transitions(obs=obs, acts=acts,infos=infos,terminal=dones)\n",
    "\n",
    "# rollout2= rollout.flatten_trajectories(custom_dataset)\n",
    "# # print(custom_dataset.obs.shape)"
   ]
  },
  {
   "cell_type": "code",
   "execution_count": null,
   "id": "b9913a2a",
   "metadata": {},
   "outputs": [],
   "source": [
    "# print(f\"shape of RGB dataset {read_file['images']['rgb_data'].shape}\")\n",
    "# print(f\"shape of kris odom dataset {read_file['kris_dynamics']['odom_data'].keys()}\")\n",
    "# print(f\"shape of kris odom data filered  {read_file['kris_dynamics']['odom_data']['odom_data_wheel'].shape}\")\n",
    "# print(f\"shape of kris odom data filered  {read_file['kris_dynamics']['odom_data']['target_vector'][10]}\")"
   ]
  },
  {
   "cell_type": "markdown",
   "id": "33d788f8",
   "metadata": {},
   "source": [
    "The list of topic \n",
    "\n",
    "hdf5 file structure \n",
    "    - images\n",
    "        -rgb_data\n",
    "        - depth_data\n",
    "    - kris_dynamics\n",
    "        - imu_data\n",
    "        - odom_data\n",
    "            - odom_data_filtered\n",
    "            - odom_data_wheel\n",
    "            - target_vector"
   ]
  },
  {
   "cell_type": "markdown",
   "id": "98651457",
   "metadata": {},
   "source": []
  }
 ],
 "metadata": {
  "kernelspec": {
   "display_name": "thesis_venv",
   "language": "python",
   "name": "thesis_venv"
  },
  "language_info": {
   "codemirror_mode": {
    "name": "ipython",
    "version": 3
   },
   "file_extension": ".py",
   "mimetype": "text/x-python",
   "name": "python",
   "nbconvert_exporter": "python",
   "pygments_lexer": "ipython3",
   "version": "3.8.10"
  }
 },
 "nbformat": 4,
 "nbformat_minor": 5
}
