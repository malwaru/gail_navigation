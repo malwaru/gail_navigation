{
 "cells": [
  {
   "cell_type": "code",
   "execution_count": 5,
   "id": "0f2a8296-db9e-41d4-b30d-e8deae92340b",
   "metadata": {},
   "outputs": [],
   "source": [
    "import numpy as np\n",
    "from imitation.data.types import Trajectory,Transitions,DictObs\n",
    "import h5py\n",
    "from imitation.data import rollout\n",
    "from imitation.data.wrappers import RolloutInfoWrapper\n",
    "# import copy\n",
    "\n"
   ]
  },
  {
   "cell_type": "code",
   "execution_count": 6,
   "id": "162f410f",
   "metadata": {},
   "outputs": [
    {
     "name": "stdout",
     "output_type": "stream",
     "text": [
      "list of kesy ['images', 'kris_dynamics']\n"
     ]
    }
   ],
   "source": [
    "file_path=\"/home/foxy_user/foxy_ws/src/gail_navigation/GailNavigationNetwork/data/traj2.hdf5\"\n",
    "read_file= h5py.File(file_path, \"r\")\n",
    "print(f\"list of kesy {list(read_file.keys())}\")\n",
    "len= read_file['kris_dynamics']['odom_data']['target_vector'].shape[0]\n"
   ]
  },
  {
   "cell_type": "code",
   "execution_count": 8,
   "id": "f324cd09",
   "metadata": {},
   "outputs": [
    {
     "name": "stdout",
     "output_type": "stream",
     "text": [
      "actions shape (7,) and saple [-6.79829910e+00 -6.61635639e+00  6.38169663e-01  4.19328902e-03\n",
      " -2.96068781e-02  5.60082699e-01  8.27896865e-01]\n",
      "actions shape (7,) and saple [-6.79990807e+00 -6.61664084e+00  6.38132809e-01  4.20920294e-03\n",
      " -2.96068120e-02  5.60518603e-01  8.27601725e-01]\n",
      "actions shape (7,) and saple [-6.66723962e+00 -6.27826375e+00  6.47735165e-01 -2.74439834e-03\n",
      " -2.31056992e-02  5.60586024e-01  8.27769234e-01]\n",
      "actions shape (7,) and saple [-6.42415136e+00 -5.50986864e+00  6.87527544e-01 -6.55817617e-04\n",
      " -3.14009741e-02  6.05569268e-01  7.95172566e-01]\n",
      "actions shape (7,) and saple [-7.07810604 -5.42646736  0.66429552 -0.01121453 -0.03186419  0.91608735\n",
      "  0.39955335]\n",
      "actions shape (7,) and saple [-7.12010059 -5.03379922  0.66527376 -0.0119579  -0.02564325  0.80936626\n",
      "  0.58662227]\n",
      "actions shape (7,) and saple [-7.08889631 -4.94937632  0.6686537  -0.01324725 -0.02617703  0.77800473\n",
      "  0.62757304]\n",
      "actions shape (7,) and saple [-7.4412608  -4.67789606  0.65998573 -0.01268098 -0.02489659  0.8709944\n",
      "  0.49049782]\n",
      "actions shape (7,) and saple [-7.95288046 -3.84352922  0.65798697 -0.01304405 -0.02840785  0.87153929\n",
      "  0.48932822]\n",
      "actions shape (7,) and saple [-8.46927612 -2.98696606  0.63586529 -0.01908218 -0.01586698  0.8715776\n",
      "  0.48962904]\n",
      "actions shape (7,) and saple [-8.94074221 -2.3812401   0.80618631  0.0938247  -0.07079029  0.88838271\n",
      "  0.44380381]\n",
      "actions shape (7,) and saple [-9.07591781 -2.19929894  0.93248968  0.16656778 -0.10952513  0.88811381\n",
      "  0.41414162]\n",
      "actions shape (7,) and saple [-9.07102677 -2.19603411  0.94116853  0.17168062 -0.11287805  0.88546302\n",
      "  0.41682076]\n",
      "actions shape (7,) and saple [-9.06617128 -2.19284491  0.94957054  0.17661628 -0.11621075  0.88277224\n",
      "  0.41954133]\n",
      "actions shape (7,) and saple [-9.06357242 -2.19076941  0.94371939  0.17274001 -0.11461936  0.8828552\n",
      "  0.42141427]\n",
      "actions shape (7,) and saple [-9.06226733 -2.18928792  0.93079008  0.16454532 -0.1105391   0.88435776\n",
      "  0.42263139]\n",
      "actions shape (7,) and saple [-9.06096444 -2.19066619  0.92978386  0.16400705 -0.11005485  0.88476792\n",
      "  0.42210822]\n",
      "actions shape (7,) and saple [-9.05966403 -2.19207096  0.92909975  0.16367671 -0.10966333  0.88516466\n",
      "  0.42150612]\n",
      "actions shape (7,) and saple [-9.05846783 -2.19328109  0.92851156  0.1634041  -0.10929548  0.88558139\n",
      "  0.42083156]\n",
      "actions shape (7,) and saple [-9.05746335 -2.19409673  0.92810179  0.16323384 -0.10898559  0.88600465\n",
      "  0.42008643]\n",
      "actions shape (7,) and saple [-9.05643879 -2.19494537  0.92767782  0.16305528 -0.10867074  0.88642755\n",
      "  0.41934455]\n",
      "actions shape (7,) and saple [-9.05540685 -2.1957799   0.92725839  0.16287871 -0.1083575   0.88685089\n",
      "  0.41859846]\n",
      "actions shape (7,) and saple [-9.05437303 -2.19663262  0.92683254  0.16269743 -0.10804473  0.88726814\n",
      "  0.41786496]\n",
      "actions shape (7,) and saple [-9.05329967 -2.19752052  0.92638852  0.16250599 -0.10772472  0.88768746\n",
      "  0.41713086]\n",
      "actions shape (7,) and saple [-9.05329967 -2.19752052  0.92638852  0.16250599 -0.10772472  0.88768746\n",
      "  0.41713086]\n"
     ]
    }
   ],
   "source": [
    "rgbs=[]\n",
    "depths=[]\n",
    "targets=[]  \n",
    "acts=[]\n",
    "\n",
    "test_depth=True\n",
    "for i in range(len):\n",
    "    target=read_file['kris_dynamics']['odom_data']['target_vector'][i]\n",
    "    rgb=read_file['images']['rgb_data'][i]\n",
    "    depth=read_file['images']['depth_data'][i]\n",
    "    act=read_file['kris_dynamics']['odom_data']['odom_data_wheel'][i]\n",
    "    rgbs.append(rgb)\n",
    "    depths.append(depth)\n",
    "    targets.append(target) \n",
    "    acts.append(act)\n",
    "    # if (len==1):\n",
    "    print(f\"actions shape {np.array(act).shape} and saple {act}\") \n",
    "     \n",
    "    oo=np.array(depth)\n",
    " \n",
    "\n",
    "# print(f\"the rgb shape is {oo.shape}\")\n",
    "\n",
    "# obs=[np.array(rgbs).reshape(25,-1),np.array(depths).reshape(25,-1),np.array(targets).reshape(25,-1)]\n",
    "# print(f\"the obs is {(obs[2])}\")\n",
    "# obs_dict=DictObs( {'target_vector':np.array(targets),\n",
    "#             'rgb_features':np.array(rgbs),\n",
    "#             'depth_features':np.array(depths)})\n",
    "# print(f\"obs_dict shape {obs_dict.shape}\")\n",
    "# print(f\"the acts shape is {np.array(acts).shape}\")\n"
   ]
  },
  {
   "cell_type": "code",
   "execution_count": null,
   "id": "8aea8391",
   "metadata": {},
   "outputs": [],
   "source": [
    "\n",
    "# acts=np.array(acts)\n",
    "\n",
    "# custom_dataset = Trajectory(obs=obs_dict, acts=acts,infos=infos,terminal=dones)\n"
   ]
  },
  {
   "cell_type": "code",
   "execution_count": null,
   "id": "7d370344",
   "metadata": {},
   "outputs": [],
   "source": [
    "# rollout2= rollout.flatten_trajectories([custom_dataset])\n",
    "# # counter=0\n",
    "# # for d in custom_dataset:\n",
    "# #     print(d)\n",
    "# #     if counter==10:\n",
    "# #         break\n",
    "# print(custom_dataset.shape)"
   ]
  },
  {
   "cell_type": "code",
   "execution_count": null,
   "id": "67b9afe7",
   "metadata": {},
   "outputs": [],
   "source": []
  },
  {
   "cell_type": "code",
   "execution_count": null,
   "id": "04b6a25e",
   "metadata": {},
   "outputs": [],
   "source": [
    "\n",
    "# len= read_file['kris_dynamics']['odom_data']['target_vector'].shape[0]\n",
    "# obs=[]\n",
    "# acts=[]\n",
    "# for i in range(len):\n",
    "#     target=read_file['kris_dynamics']['odom_data']['target_vector'][i]\n",
    "#     rgb=read_file['images']['rgb_data'][i]\n",
    "#     depth=read_file['images']['depth_data'][i]\n",
    "#     act=read_file['kris_dynamics']['odom_data']['odom_data_wheel'][i]\n",
    "#     obs.append([target,rgb,depth])\n",
    "    \n",
    "#     acts.append(act)\n",
    "\n",
    "\n",
    "# dones=np.zeros(shape=(len,1))\n",
    "# dones[-1]=1\n",
    "# infos= [{} for i in range(len)]\n",
    "# next_obs=copy.deepcopy(obs[1:])\n",
    "# custom_dataset = Transitions(obs=np.array(obs), acts=np.array(acts),infos=infos,next_obs=next_obs,dones=dones)\n"
   ]
  },
  {
   "cell_type": "code",
   "execution_count": null,
   "id": "3af871c9",
   "metadata": {},
   "outputs": [],
   "source": [
    "# import numpy as np\n",
    "# from imitation.policies.serialize import load_policy\n",
    "# from imitation.util.util import make_vec_env\n",
    "# from imitation.data.wrappers import RolloutInfoWrapper\n",
    "# from imitation.data import rollout\n",
    "\n",
    "\n",
    "# SEED = 42\n",
    "\n",
    "# env = make_vec_env(\n",
    "#     \"seals:seals/CartPole-v0\",\n",
    "#     rng=np.random.default_rng(SEED),\n",
    "#     n_envs=8,\n",
    "#     post_wrappers=[\n",
    "#         lambda env, _: RolloutInfoWrapper(env)\n",
    "#     ],  # needed for computing rollouts later\n",
    "# )\n",
    "# expert = load_policy(\n",
    "#     \"ppo-huggingface\",\n",
    "#     organization=\"HumanCompatibleAI\",\n",
    "#     env_name=\"seals/CartPole-v0\",\n",
    "#     venv=env,\n",
    "# )\n",
    "\n",
    "# rollouts = rollout.rollout(\n",
    "#     expert,\n",
    "#     env,\n",
    "#     rollout.make_sample_until(min_timesteps=None, min_episodes=60),\n",
    "#     rng=np.random.default_rng(SEED),\n",
    "# )"
   ]
  },
  {
   "cell_type": "code",
   "execution_count": null,
   "id": "dfb906ed",
   "metadata": {},
   "outputs": [],
   "source": [
    "# no_of_transitions = 10\n",
    "# obs=np.ones(shape=(no_of_transitions,3))*3\n",
    "# acts=np.ones(shape=(no_of_transitions-1,1))*5\n",
    "# next_obs=np.ones(shape=(no_of_transitions,3))*7\n",
    "# dones=np.zeros(shape=(no_of_transitions,1))\n",
    "# infos= [{} for i in range(no_of_transitions-1)]\n",
    "# custom_dataset = Transitions(obs=obs, acts=acts,infos=infos,terminal=dones)\n",
    "\n",
    "# rollout2= rollout.flatten_trajectories(custom_dataset)\n",
    "# # print(custom_dataset.obs.shape)"
   ]
  },
  {
   "cell_type": "code",
   "execution_count": null,
   "id": "b9913a2a",
   "metadata": {},
   "outputs": [],
   "source": [
    "# print(f\"shape of RGB dataset {read_file['images']['rgb_data'].shape}\")\n",
    "# print(f\"shape of kris odom dataset {read_file['kris_dynamics']['odom_data'].keys()}\")\n",
    "# print(f\"shape of kris odom data filered  {read_file['kris_dynamics']['odom_data']['odom_data_wheel'].shape}\")\n",
    "# print(f\"shape of kris odom data filered  {read_file['kris_dynamics']['odom_data']['target_vector'][10]}\")"
   ]
  },
  {
   "cell_type": "markdown",
   "id": "33d788f8",
   "metadata": {},
   "source": [
    "The list of topic \n",
    "\n",
    "hdf5 file structure \n",
    "    - images\n",
    "        -rgb_data\n",
    "        - depth_data\n",
    "    - kris_dynamics\n",
    "        - imu_data\n",
    "        - odom_data\n",
    "            - odom_data_filtered\n",
    "            - odom_data_wheel\n",
    "            - target_vector"
   ]
  },
  {
   "cell_type": "markdown",
   "id": "98651457",
   "metadata": {},
   "source": []
  }
 ],
 "metadata": {
  "kernelspec": {
   "display_name": "thesis_venv",
   "language": "python",
   "name": "thesis_venv"
  },
  "language_info": {
   "codemirror_mode": {
    "name": "ipython",
    "version": 3
   },
   "file_extension": ".py",
   "mimetype": "text/x-python",
   "name": "python",
   "nbconvert_exporter": "python",
   "pygments_lexer": "ipython3",
   "version": "3.8.10"
  }
 },
 "nbformat": 4,
 "nbformat_minor": 5
}
