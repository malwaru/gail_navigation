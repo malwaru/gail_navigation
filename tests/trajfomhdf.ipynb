{
 "cells": [
  {
   "cell_type": "code",
   "execution_count": 2,
   "id": "0f2a8296-db9e-41d4-b30d-e8deae92340b",
   "metadata": {},
   "outputs": [],
   "source": [
    "\"\"\"This is a simple example demonstrating how to clone the behavior of an expert.\n",
    "\n",
    "Refer to the jupyter notebooks for more detailed examples of how to use the algorithms.\n",
    "\"\"\"\n",
    "import numpy as np\n",
    "from imitation.data.types import Trajectory\n",
    "import h5py\n",
    "from imitation.data import rollout\n",
    "from imitation.data.wrappers import RolloutInfoWrapper\n"
   ]
  },
  {
   "cell_type": "code",
   "execution_count": null,
   "id": "676de101",
   "metadata": {},
   "outputs": [],
   "source": [
    "# no_of_transitions = 10\n",
    "# obs=np.ones(shape=(no_of_transitions,3))*3\n",
    "# acts=np.ones(shape=(no_of_transitions-1,1))*5\n",
    "# next_obs=np.ones(shape=(no_of_transitions,3))*7\n",
    "# dones=np.zeros(shape=(no_of_transitions,1))\n",
    "# infos= [{} for i in range(no_of_transitions-1)]\n",
    "# custom_dataset = Trajectory(obs=obs, acts=acts,infos=infos,terminal=dones)\n",
    "\n",
    "# # rollout2= rollout.flatten_trajectories(custom_dataset)\n",
    "# print(custom_dataset.obs.shape)"
   ]
  },
  {
   "cell_type": "code",
   "execution_count": 3,
   "id": "162f410f",
   "metadata": {},
   "outputs": [
    {
     "name": "stdout",
     "output_type": "stream",
     "text": [
      "list of kesy ['images', 'kris_dynamics']\n"
     ]
    }
   ],
   "source": [
    "file_path=\"/home/foxy_user/foxy_ws/src/gail_navigation/GailNavigationNetwork/data/traj2.hdf5\"\n",
    "read_file= h5py.File(file_path, \"r\")\n",
    "print(f\"list of kesy {list(read_file.keys())}\")\n"
   ]
  },
  {
   "cell_type": "markdown",
   "id": "ddb05d8a",
   "metadata": {},
   "source": [
    "The list of topic \n",
    "\n",
    "hdf5 file structure \n",
    "    - images\n",
    "        -rgb_data\n",
    "        - depth_data\n",
    "    - kris_dynamics\n",
    "        - imu_data\n",
    "        - odom_data\n",
    "            - odom_data_filtered\n",
    "            - odom_data_wheel\n",
    "            - target_vector"
   ]
  },
  {
   "cell_type": "code",
   "execution_count": null,
   "id": "023972f1",
   "metadata": {},
   "outputs": [],
   "source": []
  },
  {
   "cell_type": "code",
   "execution_count": null,
   "id": "68956ce1",
   "metadata": {},
   "outputs": [],
   "source": [
    "print(f\"shape of RGB dataset {read_file['images']['rgb_data'].shape}\")\n",
    "print(f\"shape of kris odom dataset {read_file['kris_dynamics']['odom_data'].keys()}\")"
   ]
  },
  {
   "cell_type": "code",
   "execution_count": null,
   "id": "6daa46e8",
   "metadata": {},
   "outputs": [],
   "source": [
    "print(f\"shape of kris odom data filered  {read_file['kris_dynamics']['odom_data']['odom_data_wheel'].shape}\")"
   ]
  },
  {
   "cell_type": "code",
   "execution_count": null,
   "id": "2077cf72",
   "metadata": {},
   "outputs": [],
   "source": [
    "print(f\"shape of kris odom data filered  {read_file['kris_dynamics']['odom_data']['target_vector'][10]}\")"
   ]
  },
  {
   "cell_type": "code",
   "execution_count": 5,
   "id": "c815d930",
   "metadata": {},
   "outputs": [],
   "source": [
    "len= read_file['kris_dynamics']['odom_data']['target_vector'].shape[0]\n",
    "obs=[]\n",
    "acts=[]\n",
    "for i in range(len):\n",
    "    target=read_file['kris_dynamics']['odom_data']['target_vector'][i]\n",
    "    rgb=read_file['images']['rgb_data'][i]\n",
    "    depth=read_file['images']['depth_data'][i]\n",
    "    act=read_file['kris_dynamics']['odom_data']['odom_data_wheel'][i]\n",
    "    obs.append([target,rgb,depth])\n",
    " \n",
    "    acts.append(act)\n",
    "# print(obs)\n",
    "\n",
    "del acts[-1]\n",
    "dones=np.zeros(shape=(len,1))\n",
    "dones[-1]=1\n",
    "infos= [{} for i in range(len-1)]\n",
    "custom_dataset = Trajectory(obs=obs, acts=acts,infos=infos,terminal=dones)\n"
   ]
  },
  {
   "cell_type": "code",
   "execution_count": null,
   "id": "3af871c9",
   "metadata": {},
   "outputs": [],
   "source": [
    "# import numpy as np\n",
    "# from imitation.policies.serialize import load_policy\n",
    "# from imitation.util.util import make_vec_env\n",
    "# from imitation.data.wrappers import RolloutInfoWrapper\n",
    "# from imitation.data import rollout\n",
    "\n",
    "\n",
    "# SEED = 42\n",
    "\n",
    "# env = make_vec_env(\n",
    "#     \"seals:seals/CartPole-v0\",\n",
    "#     rng=np.random.default_rng(SEED),\n",
    "#     n_envs=8,\n",
    "#     post_wrappers=[\n",
    "#         lambda env, _: RolloutInfoWrapper(env)\n",
    "#     ],  # needed for computing rollouts later\n",
    "# )\n",
    "# expert = load_policy(\n",
    "#     \"ppo-huggingface\",\n",
    "#     organization=\"HumanCompatibleAI\",\n",
    "#     env_name=\"seals/CartPole-v0\",\n",
    "#     venv=env,\n",
    "# )\n",
    "\n",
    "# rollouts = rollout.rollout(\n",
    "#     expert,\n",
    "#     env,\n",
    "#     rollout.make_sample_until(min_timesteps=None, min_episodes=60),\n",
    "#     rng=np.random.default_rng(SEED),\n",
    "# )"
   ]
  },
  {
   "cell_type": "code",
   "execution_count": null,
   "id": "dfb906ed",
   "metadata": {},
   "outputs": [],
   "source": [
    "# print(rollouts[1])"
   ]
  },
  {
   "cell_type": "code",
   "execution_count": null,
   "id": "b9913a2a",
   "metadata": {},
   "outputs": [],
   "source": []
  }
 ],
 "metadata": {
  "kernelspec": {
   "display_name": "thesis_venv",
   "language": "python",
   "name": "thesis_venv"
  },
  "language_info": {
   "codemirror_mode": {
    "name": "ipython",
    "version": 3
   },
   "file_extension": ".py",
   "mimetype": "text/x-python",
   "name": "python",
   "nbconvert_exporter": "python",
   "pygments_lexer": "ipython3",
   "version": "3.8.10"
  }
 },
 "nbformat": 4,
 "nbformat_minor": 5
}
