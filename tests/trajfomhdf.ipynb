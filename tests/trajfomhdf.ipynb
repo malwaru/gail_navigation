{
 "cells": [
  {
   "cell_type": "code",
   "execution_count": 1,
   "id": "0f2a8296-db9e-41d4-b30d-e8deae92340b",
   "metadata": {},
   "outputs": [],
   "source": [
    "import numpy as np\n",
    "from imitation.data.types import Trajectory,Transitions,DictObs\n",
    "import h5py\n",
    "from imitation.data import rollout\n",
    "from imitation.data.wrappers import RolloutInfoWrapper\n",
    "# import copy\n",
    "\n"
   ]
  },
  {
   "cell_type": "code",
   "execution_count": 2,
   "id": "162f410f",
   "metadata": {},
   "outputs": [
    {
     "name": "stdout",
     "output_type": "stream",
     "text": [
      "list of kesy ['images', 'kris_dynamics']\n"
     ]
    }
   ],
   "source": [
    "file_path=\"/home/foxy_user/foxy_ws/src/gail_navigation/GailNavigationNetwork/data/traj2.hdf5\"\n",
    "read_file= h5py.File(file_path, \"r\")\n",
    "print(f\"list of kesy {list(read_file.keys())}\")\n",
    "len= read_file['kris_dynamics']['odom_data']['target_vector'].shape[0]\n"
   ]
  },
  {
   "cell_type": "code",
   "execution_count": 19,
   "id": "f324cd09",
   "metadata": {},
   "outputs": [
    {
     "name": "stdout",
     "output_type": "stream",
     "text": [
      "the rgb shape is (240, 320)\n",
      "the obs is [[ 3.98997429  3.80803158 -3.44649448 -2.8125181  -2.77871794 -3.36840751\n",
      "  -3.63622168]\n",
      " [ 3.99158325  3.80831603 -3.44645762 -2.81253402 -2.778718   -3.36884342\n",
      "  -3.63592654]\n",
      " [ 3.85891481  3.46993893 -3.45605998 -2.80558042 -2.78521911 -3.36891084\n",
      "  -3.63609405]\n",
      " [ 3.61582654  2.70154383 -3.49585236 -2.807669    3.86519271  3.22822246\n",
      "   3.03861917]\n",
      " [10.91189777  9.2602591   3.16949622  3.84500627  3.86565592  2.91770438\n",
      "   3.43423839]\n",
      " [10.95389232  8.86759095  3.16851797  3.84574963  3.85943498  3.02442547\n",
      "   3.24716946]\n",
      " [10.92268804  8.78316805  3.16513803  3.84703898  3.85996876  3.05578701\n",
      "   3.20621869]\n",
      " [11.27505254  4.67789606 -0.65998573  0.01268098  0.02489659 -0.8709944\n",
      "  -0.49049782]\n",
      " [ 7.95288046  3.84352922 -0.65798697  0.01304405  0.02840785 -0.87153929\n",
      "  -0.48932822]\n",
      " [ 8.46927612  2.98696606 -0.63586529  0.01908218  0.01586698 -0.8715776\n",
      "  -0.48962904]\n",
      " [ 8.94074221  2.3812401  -0.80618631 -0.0938247   0.07079029 -0.88838271\n",
      "  -0.44380381]\n",
      " [ 9.07591781  2.19929894 -0.93248968 -0.16656778  0.10952513 -0.88811381\n",
      "  -0.41414162]\n",
      " [ 9.07102677  2.19603411 -0.94116853 -0.17168062  0.11287805 -0.88546302\n",
      "  -0.41682076]\n",
      " [ 9.06617128  2.19284491 -0.94957054 -0.17661628  0.11621075 -0.88277224\n",
      "  -0.41954133]\n",
      " [ 9.06357242  2.19076941 -0.94371939 -0.17274001  0.11461936 -0.8828552\n",
      "  -0.42141427]\n",
      " [ 9.06226733  2.18928792 -0.93079008 -0.16454532  0.1105391  -0.88435776\n",
      "  -0.42263139]\n",
      " [ 9.06096444  2.19066619 -0.92978386 -0.16400705  0.11005485 -0.88476792\n",
      "  -0.42210822]\n",
      " [ 9.05966403  2.19207096 -0.92909975 -0.16367671  0.10966333 -0.88516466\n",
      "   0.53010873]\n",
      " [10.01008269  3.14489594  0.0231033   0.78821076  1.06091034  0.06603347\n",
      "   0.53078329]\n",
      " [10.0090782   3.14571158  0.02351306  0.78838102  1.06060044  0.0656102\n",
      "   0.53152843]\n",
      " [10.00805364  3.14656023  0.02393703  0.78855958  1.0602856   0.06518731\n",
      "   0.5322703 ]\n",
      " [10.0070217   3.14739476  0.02435647  0.14441458  0.41565079 -0.5795576\n",
      "  -0.11130517]\n",
      " [ 9.36166632  2.50392591 -0.61953925  0.14459586  0.41533802 -0.57997485\n",
      "  -0.11057166]\n",
      " [ 9.36059296  2.50481381 -0.61909523  0.1447873   0.41501801 -0.58039417\n",
      "  -0.10983757]\n",
      " [ 9.36059296  2.50481381 -0.61909523  0.1447873   0.41501801 -0.58039417\n",
      "  -0.10983757]]\n",
      "the acts shape is (25, 7)\n"
     ]
    }
   ],
   "source": [
    "rgbs=[]\n",
    "depths=[]\n",
    "targets=[]  \n",
    "acts=[]\n",
    "for i in range(len):\n",
    "    target=read_file['kris_dynamics']['odom_data']['target_vector'][i]\n",
    "    rgb=read_file['images']['rgb_data'][i]\n",
    "    depth=read_file['images']['depth_data'][i]\n",
    "    act=read_file['kris_dynamics']['odom_data']['odom_data_wheel'][i]\n",
    "    rgbs.append(rgb)\n",
    "    depths.append(depth)\n",
    "    targets.append(target) \n",
    "    acts.append(act)\n",
    "    oo=np.array(depth)\n",
    "print(f\"the rgb shape is {oo.shape}\")\n",
    "\n",
    "obs=[np.array(rgbs).reshape(25,-1),np.array(depths).reshape(25,-1),np.array(targets).reshape(25,-1)]\n",
    "print(f\"the obs is {(obs[2])}\")\n",
    "# obs_dict=DictObs( {'target_vector':np.array(targets),\n",
    "#             'rgb_features':np.array(rgbs),\n",
    "#             'depth_features':np.array(depths)})\n",
    "# print(f\"obs_dict shape {obs_dict.shape}\")\n",
    "print(f\"the acts shape is {np.array(acts).shape}\")\n"
   ]
  },
  {
   "cell_type": "code",
   "execution_count": null,
   "id": "8aea8391",
   "metadata": {},
   "outputs": [],
   "source": [
    "\n",
    "acts=np.array(acts)\n",
    "\n",
    "custom_dataset = Trajectory(obs=obs_dict, acts=acts,infos=infos,terminal=dones)\n"
   ]
  },
  {
   "cell_type": "code",
   "execution_count": null,
   "id": "7d370344",
   "metadata": {},
   "outputs": [],
   "source": [
    "rollout2= rollout.flatten_trajectories([custom_dataset])\n",
    "# # counter=0\n",
    "# # for d in custom_dataset:\n",
    "# #     print(d)\n",
    "# #     if counter==10:\n",
    "# #         break\n",
    "# print(custom_dataset.shape)"
   ]
  },
  {
   "cell_type": "code",
   "execution_count": null,
   "id": "67b9afe7",
   "metadata": {},
   "outputs": [],
   "source": []
  },
  {
   "cell_type": "code",
   "execution_count": null,
   "id": "04b6a25e",
   "metadata": {},
   "outputs": [],
   "source": [
    "\n",
    "# len= read_file['kris_dynamics']['odom_data']['target_vector'].shape[0]\n",
    "# obs=[]\n",
    "# acts=[]\n",
    "# for i in range(len):\n",
    "#     target=read_file['kris_dynamics']['odom_data']['target_vector'][i]\n",
    "#     rgb=read_file['images']['rgb_data'][i]\n",
    "#     depth=read_file['images']['depth_data'][i]\n",
    "#     act=read_file['kris_dynamics']['odom_data']['odom_data_wheel'][i]\n",
    "#     obs.append([target,rgb,depth])\n",
    "    \n",
    "#     acts.append(act)\n",
    "\n",
    "\n",
    "# dones=np.zeros(shape=(len,1))\n",
    "# dones[-1]=1\n",
    "# infos= [{} for i in range(len)]\n",
    "# next_obs=copy.deepcopy(obs[1:])\n",
    "# custom_dataset = Transitions(obs=np.array(obs), acts=np.array(acts),infos=infos,next_obs=next_obs,dones=dones)\n"
   ]
  },
  {
   "cell_type": "code",
   "execution_count": null,
   "id": "3af871c9",
   "metadata": {},
   "outputs": [],
   "source": [
    "# import numpy as np\n",
    "# from imitation.policies.serialize import load_policy\n",
    "# from imitation.util.util import make_vec_env\n",
    "# from imitation.data.wrappers import RolloutInfoWrapper\n",
    "# from imitation.data import rollout\n",
    "\n",
    "\n",
    "# SEED = 42\n",
    "\n",
    "# env = make_vec_env(\n",
    "#     \"seals:seals/CartPole-v0\",\n",
    "#     rng=np.random.default_rng(SEED),\n",
    "#     n_envs=8,\n",
    "#     post_wrappers=[\n",
    "#         lambda env, _: RolloutInfoWrapper(env)\n",
    "#     ],  # needed for computing rollouts later\n",
    "# )\n",
    "# expert = load_policy(\n",
    "#     \"ppo-huggingface\",\n",
    "#     organization=\"HumanCompatibleAI\",\n",
    "#     env_name=\"seals/CartPole-v0\",\n",
    "#     venv=env,\n",
    "# )\n",
    "\n",
    "# rollouts = rollout.rollout(\n",
    "#     expert,\n",
    "#     env,\n",
    "#     rollout.make_sample_until(min_timesteps=None, min_episodes=60),\n",
    "#     rng=np.random.default_rng(SEED),\n",
    "# )"
   ]
  },
  {
   "cell_type": "code",
   "execution_count": null,
   "id": "dfb906ed",
   "metadata": {},
   "outputs": [],
   "source": [
    "# no_of_transitions = 10\n",
    "# obs=np.ones(shape=(no_of_transitions,3))*3\n",
    "# acts=np.ones(shape=(no_of_transitions-1,1))*5\n",
    "# next_obs=np.ones(shape=(no_of_transitions,3))*7\n",
    "# dones=np.zeros(shape=(no_of_transitions,1))\n",
    "# infos= [{} for i in range(no_of_transitions-1)]\n",
    "# custom_dataset = Transitions(obs=obs, acts=acts,infos=infos,terminal=dones)\n",
    "\n",
    "# rollout2= rollout.flatten_trajectories(custom_dataset)\n",
    "# # print(custom_dataset.obs.shape)"
   ]
  },
  {
   "cell_type": "code",
   "execution_count": null,
   "id": "b9913a2a",
   "metadata": {},
   "outputs": [],
   "source": [
    "# print(f\"shape of RGB dataset {read_file['images']['rgb_data'].shape}\")\n",
    "# print(f\"shape of kris odom dataset {read_file['kris_dynamics']['odom_data'].keys()}\")\n",
    "# print(f\"shape of kris odom data filered  {read_file['kris_dynamics']['odom_data']['odom_data_wheel'].shape}\")\n",
    "# print(f\"shape of kris odom data filered  {read_file['kris_dynamics']['odom_data']['target_vector'][10]}\")"
   ]
  },
  {
   "cell_type": "markdown",
   "id": "33d788f8",
   "metadata": {},
   "source": [
    "The list of topic \n",
    "\n",
    "hdf5 file structure \n",
    "    - images\n",
    "        -rgb_data\n",
    "        - depth_data\n",
    "    - kris_dynamics\n",
    "        - imu_data\n",
    "        - odom_data\n",
    "            - odom_data_filtered\n",
    "            - odom_data_wheel\n",
    "            - target_vector"
   ]
  },
  {
   "cell_type": "markdown",
   "id": "98651457",
   "metadata": {},
   "source": []
  }
 ],
 "metadata": {
  "kernelspec": {
   "display_name": "thesis_venv",
   "language": "python",
   "name": "thesis_venv"
  },
  "language_info": {
   "codemirror_mode": {
    "name": "ipython",
    "version": 3
   },
   "file_extension": ".py",
   "mimetype": "text/x-python",
   "name": "python",
   "nbconvert_exporter": "python",
   "pygments_lexer": "ipython3",
   "version": "3.8.10"
  }
 },
 "nbformat": 4,
 "nbformat_minor": 5
}
