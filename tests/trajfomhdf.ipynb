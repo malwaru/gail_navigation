{
 "cells": [
  {
   "cell_type": "code",
   "execution_count": 9,
   "id": "0f2a8296-db9e-41d4-b30d-e8deae92340b",
   "metadata": {},
   "outputs": [],
   "source": [
    "\"\"\"This is a simple example demonstrating how to clone the behavior of an expert.\n",
    "\n",
    "Refer to the jupyter notebooks for more detailed examples of how to use the algorithms.\n",
    "\"\"\"\n",
    "import numpy as np\n",
    "from imitation.data.types import Trajectory\n",
    "import h5py\n",
    "from imitation.data import rollout\n",
    "from imitation.data.wrappers import RolloutInfoWrapper\n"
   ]
  },
  {
   "cell_type": "code",
   "execution_count": 10,
   "id": "676de101",
   "metadata": {},
   "outputs": [
    {
     "name": "stdout",
     "output_type": "stream",
     "text": [
      "(10, 3)\n"
     ]
    }
   ],
   "source": [
    "no_of_transitions = 10\n",
    "obs=np.ones(shape=(no_of_transitions,3))*3\n",
    "acts=np.ones(shape=(no_of_transitions-1,1))*5\n",
    "next_obs=np.ones(shape=(no_of_transitions,3))*7\n",
    "dones=np.zeros(shape=(no_of_transitions,1))\n",
    "infos= [{} for i in range(no_of_transitions-1)]\n",
    "custom_dataset = Trajectory(obs=obs, acts=acts,infos=infos,terminal=dones)\n",
    "\n",
    "# rollout2= rollout.flatten_trajectories(custom_dataset)\n",
    "print(custom_dataset.obs.shape)"
   ]
  },
  {
   "cell_type": "code",
   "execution_count": 11,
   "id": "162f410f",
   "metadata": {},
   "outputs": [
    {
     "name": "stdout",
     "output_type": "stream",
     "text": [
      "list of kesy ['images', 'kris_dynamics']\n"
     ]
    }
   ],
   "source": [
    "file_path=\"/home/foxy_user/foxy_ws/src/gail_navigation/GailNavigationNetwork/data/traj1.hdf5\"\n",
    "read_file= h5py.File(file_path, \"r\")\n",
    "print(f\"list of kesy {list(read_file.keys())}\")\n"
   ]
  },
  {
   "cell_type": "markdown",
   "id": "ddb05d8a",
   "metadata": {},
   "source": [
    "The list of topic \n",
    "\n",
    "hdf5 file structure \n",
    "    - images\n",
    "        -rgb_data\n",
    "        - depth_data\n",
    "    - kris_dynamics\n",
    "        - imu_data\n",
    "        - odom_data\n",
    "            - odom_data_filtered\n",
    "            - odom_data_wheel\n",
    "            - target_vector"
   ]
  },
  {
   "cell_type": "code",
   "execution_count": null,
   "id": "023972f1",
   "metadata": {},
   "outputs": [],
   "source": []
  },
  {
   "cell_type": "code",
   "execution_count": 22,
   "id": "68956ce1",
   "metadata": {},
   "outputs": [
    {
     "name": "stdout",
     "output_type": "stream",
     "text": [
      "shape of RGB dataset (40, 240, 320, 3)\n",
      "shape of kris odom dataset <KeysViewHDF5 ['odom_data_filtered', 'odom_data_wheel', 'target_vector']>\n"
     ]
    }
   ],
   "source": [
    "print(f\"shape of RGB dataset {read_file['images']['rgb_data'].shape}\")\n",
    "print(f\"shape of kris odom dataset {read_file['kris_dynamics']['odom_data'].keys()}\")"
   ]
  },
  {
   "cell_type": "code",
   "execution_count": 29,
   "id": "6daa46e8",
   "metadata": {},
   "outputs": [
    {
     "name": "stdout",
     "output_type": "stream",
     "text": [
      "shape of kris odom data filered  [-0.00102475 -0.16339111  0.          0.          0.          0.019235\n",
      "  0.99981499]\n"
     ]
    }
   ],
   "source": [
    "print(f\"shape of kris odom data filered  {read_file['kris_dynamics']['odom_data']['target_vector'][0]}\")"
   ]
  },
  {
   "cell_type": "code",
   "execution_count": null,
   "id": "2077cf72",
   "metadata": {},
   "outputs": [],
   "source": []
  }
 ],
 "metadata": {
  "kernelspec": {
   "display_name": "thesis_venv",
   "language": "python",
   "name": "thesis_venv"
  },
  "language_info": {
   "codemirror_mode": {
    "name": "ipython",
    "version": 3
   },
   "file_extension": ".py",
   "mimetype": "text/x-python",
   "name": "python",
   "nbconvert_exporter": "python",
   "pygments_lexer": "ipython3",
   "version": "3.9.5"
  }
 },
 "nbformat": 4,
 "nbformat_minor": 5
}
